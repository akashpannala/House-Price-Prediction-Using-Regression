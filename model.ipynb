{
 "cells": [
  {
   "cell_type": "code",
   "execution_count": 301,
   "id": "f3f7386a",
   "metadata": {},
   "outputs": [],
   "source": [
    "import numpy as np\n",
    "import pandas as pd\n",
    "from sklearn.preprocessing import LabelEncoder, OneHotEncoder , StandardScaler, MinMaxScaler\n",
    "from sklearn.linear_model import LinearRegression"
   ]
  },
  {
   "cell_type": "code",
   "execution_count": 302,
   "id": "9e7d1bd9",
   "metadata": {},
   "outputs": [],
   "source": [
    "dfs=pd.read_csv('datasets/train.csv')\n",
    "tdf = pd.read_csv(\"datasets/test.csv\")\n",
    "df=dfs.copy()"
   ]
  },
  {
   "cell_type": "code",
   "execution_count": 303,
   "id": "bdb3b784",
   "metadata": {},
   "outputs": [],
   "source": [
    "df_price = dfs['SalePrice'] \n",
    "df_all = pd.concat([dfs.drop('SalePrice', axis=1), tdf], ignore_index=True)"
   ]
  },
  {
   "cell_type": "code",
   "execution_count": 304,
   "id": "3d8a5955",
   "metadata": {},
   "outputs": [],
   "source": [
    "def fill_none_categories(df):\n",
    "    categorical_none_features = [\n",
    "        'PoolQC',      \n",
    "        'MiscFeature', \n",
    "        'Alley',       \n",
    "        'Fence',       \n",
    "        'FireplaceQu', \n",
    "        'GarageType',  \n",
    "        'GarageFinish',\n",
    "        'GarageQual', \n",
    "        'GarageCond',\n",
    "        'BsmtQual',    \n",
    "        'BsmtCond',\n",
    "        'BsmtExposure',\n",
    "        'BsmtFinType1',\n",
    "        'BsmtFinType2',\n",
    "        'MasVnrType'   \n",
    "    ]\n",
    "    \n",
    "    # Filling 'None'\n",
    "    for feature in categorical_none_features:\n",
    "        if feature in df.columns:\n",
    "            df[feature] = df[feature].fillna('None')\n",
    "    \n",
    "    # filling numericals\n",
    "    if 'MasVnrArea' in df.columns:\n",
    "        df['MasVnrArea'] = df['MasVnrArea'].fillna(0)\n",
    "    # assumuing built year is the same as garage year\n",
    "    if 'GarageYrBlt' in df.columns:\n",
    "        df['GarageYrBlt'] = df['GarageYrBlt'].fillna(df['YearBuilt']) \n",
    "    \n",
    "    if 'LotFrontage' in df.columns:\n",
    "        df['LotFrontage'] = df['LotFrontage'].fillna(df['LotFrontage'].median()) # filling with median\n",
    "    \n",
    "    if 'Electrical' in df.columns:\n",
    "        df['Electrical'] = df['Electrical'].fillna('SBrkr') # only one so assuming most common\n",
    "    \n",
    "    return df\n"
   ]
  },
  {
   "cell_type": "code",
   "execution_count": 305,
   "id": "88f82b7d",
   "metadata": {},
   "outputs": [],
   "source": [
    "import pandas as pd\n",
    "from sklearn.preprocessing import OrdinalEncoder\n",
    "\n",
    "def correct_encoding(df):\n",
    "    df_encoded = df.copy()\n",
    "    \n",
    "    # Handle quality features with a manual map\n",
    "    quality_features = ['ExterQual', 'KitchenQual', 'BsmtQual', 'HeatingQC', 'GarageQual']\n",
    "    quality_map = {'None': 0, 'Po': 1, 'Fa': 2, 'TA': 3, 'Gd': 4, 'Ex': 5}\n",
    "    \n",
    "    for feature in quality_features:\n",
    "        if feature in df.columns:\n",
    "            df_encoded[f'{feature}_Encoded'] = df_encoded[feature].map(quality_map).fillna(0)\n",
    "    \n",
    "    # Apply one-hot encoding to nominal features\n",
    "    remaining_categorical = df_encoded.select_dtypes(include=['object']).columns\n",
    "    df_encoded = pd.get_dummies(df_encoded, columns=remaining_categorical, drop_first=True).drop(columns=['ExterQual', 'KitchenQual', 'BsmtQual', 'HeatingQC', 'GarageQual'], errors='ignore')\n",
    "\n",
    "    return df_encoded \n"
   ]
  },
  {
   "cell_type": "code",
   "execution_count": 306,
   "id": "0497a535",
   "metadata": {},
   "outputs": [],
   "source": [
    "df_all = fill_none_categories(df_all)\n",
    "df_all = correct_encoding(df_all)\n",
    "df_all = df_all.fillna(0)"
   ]
  },
  {
   "cell_type": "code",
   "execution_count": 307,
   "id": "1a7e917b",
   "metadata": {},
   "outputs": [],
   "source": [
    "n_train = len(df)\n",
    "df_train = df_all.iloc[:n_train, :]\n",
    "df_test = df_all.iloc[n_train:, :]"
   ]
  },
  {
   "cell_type": "code",
   "execution_count": 308,
   "id": "d949fbf3",
   "metadata": {},
   "outputs": [],
   "source": [
    "lr_model = LinearRegression()\n",
    "lr_model.fit(df_train, df_price)\n",
    "Y_pred = lr_model.predict(df_test)"
   ]
  },
  {
   "cell_type": "code",
   "execution_count": 309,
   "id": "83ed5824",
   "metadata": {},
   "outputs": [],
   "source": [
    "submission = pd.DataFrame({\n",
    "    'Id': tdf['Id'],\n",
    "    'SalePrice': Y_pred\n",
    "})\n",
    "submission.to_csv('submission.csv', index=False)"
   ]
  },
  {
   "cell_type": "code",
   "execution_count": null,
   "id": "fe3a1206",
   "metadata": {},
   "outputs": [],
   "source": []
  },
  {
   "cell_type": "code",
   "execution_count": null,
   "id": "9de444fa",
   "metadata": {},
   "outputs": [],
   "source": []
  },
  {
   "cell_type": "code",
   "execution_count": null,
   "id": "580f3e8c",
   "metadata": {},
   "outputs": [],
   "source": []
  }
 ],
 "metadata": {
  "kernelspec": {
   "display_name": "Python 3",
   "language": "python",
   "name": "python3"
  },
  "language_info": {
   "codemirror_mode": {
    "name": "ipython",
    "version": 3
   },
   "file_extension": ".py",
   "mimetype": "text/x-python",
   "name": "python",
   "nbconvert_exporter": "python",
   "pygments_lexer": "ipython3",
   "version": "3.11.8"
  }
 },
 "nbformat": 4,
 "nbformat_minor": 5
}
